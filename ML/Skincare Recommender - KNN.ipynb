{
 "cells": [
  {
   "cell_type": "markdown",
   "id": "2650a2f9-4ec1-45e8-ad1d-5de1a881963e",
   "metadata": {},
   "source": [
    "This notebook contains the training of an ML model using the KNearestNeightbours algorithm to recommend skincare products based on skin type and skin concerns"
   ]
  },
  {
   "cell_type": "code",
   "execution_count": null,
   "id": "a819471d-1bfb-4212-9949-fba2072f3ab8",
   "metadata": {},
   "outputs": [],
   "source": [
    "import pandas as pd\n",
    "import numpy as np\n",
    "from os.path import exists\n",
    "\n",
    "df_path = \"C:/Users/singh/Downloads/result.csv\" if exists(\"C:/Users/singh/Downloads/result.csv\") else print(\"Error : No dataset found\")"
   ]
  },
  {
   "cell_type": "code",
   "execution_count": null,
   "id": "38c86682-2231-4ad9-9039-c0cf6ffa0d0c",
   "metadata": {},
   "outputs": [],
   "source": [
    "data = pd.read_csv(df_path)\n",
    "data.head()"
   ]
  },
  {
   "cell_type": "markdown",
   "id": "4eacb3cc-ce90-4358-9e1d-e5c41b79aff1",
   "metadata": {},
   "source": [
    "From the below implementation, it is clear that we have products available that can suit a variety of skintypes. Primarily those that work well for all skintypes, and very few of those that work only for combination, dry and sensitive skin."
   ]
  },
  {
   "cell_type": "code",
   "execution_count": null,
   "id": "fb4a9ae0-893c-4530-b378-c7302067be5c",
   "metadata": {},
   "outputs": [],
   "source": [
    "data['skin type'].value_counts()"
   ]
  },
  {
   "cell_type": "markdown",
   "id": "5350335e-b8d4-4c96-a5fe-9acd212f3474",
   "metadata": {},
   "source": [
    "Data preprocessing "
   ]
  },
  {
   "cell_type": "code",
   "execution_count": null,
   "id": "fc00fea2-7a9e-49d0-b934-292d75dd5fb8",
   "metadata": {},
   "outputs": [],
   "source": [
    "data['label'].value_counts()"
   ]
  },
  {
   "cell_type": "code",
   "execution_count": null,
   "id": "399375eb-c449-4756-832c-f94f437c4004",
   "metadata": {},
   "outputs": [],
   "source": [
    "data.isna().sum()"
   ]
  },
  {
   "cell_type": "code",
   "execution_count": null,
   "id": "a624ad36-0bf9-4143-a904-0881b2ea9290",
   "metadata": {
    "scrolled": true
   },
   "outputs": [],
   "source": [
    "data['concern 2'].fillna('', inplace = True)\n",
    "data['concern 3'].fillna('', inplace = True)\n",
    "data['concern'] = data['concern'] + ',' + data['concern 2'] + ',' + data['concern 3']"
   ]
  },
  {
   "cell_type": "code",
   "execution_count": null,
   "id": "7f6862b8-a288-41e6-846a-5a908aec719d",
   "metadata": {},
   "outputs": [],
   "source": [
    "data.head()"
   ]
  },
  {
   "cell_type": "code",
   "execution_count": null,
   "id": "bb0d874d-ad1a-4af3-b9de-365794d17c76",
   "metadata": {},
   "outputs": [],
   "source": [
    "data.drop(columns=['concern 2', 'concern 3', 'formulation', 'key ingredient', 'spf'], inplace = True)\n",
    "data['concern'].value_counts()"
   ]
  },
  {
   "cell_type": "code",
   "execution_count": null,
   "id": "3277e73e-0c7e-4172-8c5d-75f4cf4bd461",
   "metadata": {},
   "outputs": [],
   "source": [
    "data = data[((data['label'] == 'face-moisturisers') | (data['label'] == 'mask-and-peel') | (data['label'] == 'cleanser') | (data['label'] == 'sunscreen') | (data['label'] == 'eye-cream'))]\n",
    "LABELS = list(data['label'].unique())"
   ]
  },
  {
   "cell_type": "code",
   "execution_count": null,
   "id": "c8d8cf63-e566-4552-b43c-d77e540c1ec1",
   "metadata": {},
   "outputs": [],
   "source": [
    "data = data[data['skin type'].isna() == False]\n",
    "data.index = [i for i in range (len(data))]\n",
    "data.info()"
   ]
  },
  {
   "cell_type": "code",
   "execution_count": null,
   "id": "c682e277-e8c0-42e1-a29c-a162c554b854",
   "metadata": {},
   "outputs": [],
   "source": [
    "data['concern'] = data['concern'].str.lower()"
   ]
  },
  {
   "cell_type": "markdown",
   "id": "aad26eda-4291-445d-ab1a-6e522309d0bc",
   "metadata": {},
   "source": [
    "Now let's analyse each label (type of product) to see the primary use/concern of each product, so that we can fill the null values in concerns section!"
   ]
  },
  {
   "cell_type": "code",
   "execution_count": null,
   "id": "01513d75-abb2-496e-b9bf-3ae09eb06961",
   "metadata": {},
   "outputs": [],
   "source": [
    "data[data['label'] == 'face-moisturisers']['concern'].value_counts()"
   ]
  },
  {
   "cell_type": "code",
   "execution_count": null,
   "id": "29c2a6e7-10ef-4b6b-9453-a43e699af301",
   "metadata": {},
   "outputs": [],
   "source": [
    "data[data['label'] == 'cleanser']['concern'].value_counts()"
   ]
  },
  {
   "cell_type": "code",
   "execution_count": null,
   "id": "e700915d-434d-481a-9246-2b606677c6c1",
   "metadata": {},
   "outputs": [],
   "source": [
    "data[data['label'] == 'mask-and-peel']['concern'].value_counts()"
   ]
  },
  {
   "cell_type": "code",
   "execution_count": null,
   "id": "63503410-769b-4933-a9a0-04592eb9c435",
   "metadata": {},
   "outputs": [],
   "source": [
    "data[data['label'] == 'sunscreen']['concern'].value_counts()"
   ]
  },
  {
   "cell_type": "code",
   "execution_count": null,
   "id": "f76f52b3-2b85-4881-ad70-6473d3d89b78",
   "metadata": {},
   "outputs": [],
   "source": [
    "data[data['label'] == 'eye-cream']['concern'].value_counts()"
   ]
  },
  {
   "cell_type": "code",
   "execution_count": null,
   "id": "aead4622-3d35-4ee9-b185-c3f8f906e3fc",
   "metadata": {},
   "outputs": [],
   "source": [
    "top_concerns = {\n",
    "    'eye-cream' : 'fine lines,wrinkles,dark circles,eye bags',\n",
    "    'sunscreen' : 'sun protection',\n",
    "    'mask-and-peel' : 'daily use',\n",
    "    'cleanser' : 'general care',\n",
    "    'face-moisturisers' : 'general care'\n",
    "}\n",
    "\n",
    "for i, entry in data.iterrows():\n",
    "    label = entry['label']\n",
    "    if pd.isnull(entry['concern']):\n",
    "        data.loc[i, 'concern'] = top_concerns[label]\n",
    "\n",
    "data.info()"
   ]
  },
  {
   "cell_type": "markdown",
   "id": "0a2b32fc-16d4-424f-aed8-7c05bed8922e",
   "metadata": {},
   "source": [
    "Now let's get rid of products working on concerns that are not common, to attain better/accurate results from our model."
   ]
  },
  {
   "cell_type": "code",
   "execution_count": null,
   "id": "925d4777-a00b-4775-90f0-2b00c39f5c4a",
   "metadata": {},
   "outputs": [],
   "source": [
    "def extract_concerns(concern_string):\n",
    "    elements = concern_string.split(',')\n",
    "    for word in elements:\n",
    "        if(word != ''):\n",
    "            if word in concerns:\n",
    "                concerns[word] += 1\n",
    "            else:\n",
    "                concerns[word] = 1\n",
    "\n",
    "concerns = {}\n",
    "for i in range(len(data)):\n",
    "    extract_concerns(data.iloc[i]['concern'])"
   ]
  },
  {
   "cell_type": "code",
   "execution_count": null,
   "id": "bb21c78e-acd6-4b04-afbc-1ef925a65f28",
   "metadata": {},
   "outputs": [],
   "source": [
    "concerns = sorted(concerns.items(), key = lambda kvp : (kvp[1], kvp[0]))\n",
    "print(concerns)\n",
    "#the above basically sorts the items in 'concerns' object according to the 1st column, against the default 0th column\n"
   ]
  },
  {
   "cell_type": "code",
   "execution_count": null,
   "id": "bef0afa9-66bd-40df-943b-ca7fd7d82c67",
   "metadata": {},
   "outputs": [],
   "source": [
    "for _ in range(14):\n",
    "    concerns.pop(0)\n",
    "\n",
    "print(concerns)"
   ]
  },
  {
   "cell_type": "code",
   "execution_count": null,
   "id": "13feab9f-abd2-468e-9c1c-d7fc03d3d98b",
   "metadata": {},
   "outputs": [],
   "source": [
    "feature_list = list(data['skin type'].unique()) + [item[0] for item in concerns]\n",
    "\n",
    "(feature_list)\n"
   ]
  },
  {
   "cell_type": "markdown",
   "id": "5c259898-7d54-4a69-b668-ab7b3f395b57",
   "metadata": {},
   "source": [
    "Now, we have our data processed, we will move onto one hot encoding of our data due to precense of various skin types and skin concerns"
   ]
  },
  {
   "cell_type": "code",
   "execution_count": null,
   "id": "86dc87e9-7d41-4edf-a5c4-ad0e934091a0",
   "metadata": {},
   "outputs": [],
   "source": [
    "ohe = np.zeros([len(data), len(feature_list)])\n",
    "\n",
    "def isPresent(target_concern, item):\n",
    "    if target_concern in data.iloc[item]['concern']:\n",
    "        return True\n",
    "    return False\n",
    "\n",
    "#skin types\n",
    "for i in range(len(data)):\n",
    "    for j in range(5):\n",
    "        skin_type_product = data.iloc[i]['skin type']\n",
    "        if(skin_type_product == 'All'):\n",
    "            ohe[i][0:5] = 1\n",
    "            break;\n",
    "        elif(feature_list[j] == skin_type_product):\n",
    "            ohe[i][j] = 1;\n",
    "\n",
    "#concern as feature\n",
    "for i in range(len(data)):\n",
    "    for j in range(5, len(feature_list)):\n",
    "        if feature_list[j] in data.iloc[i]['concern']:\n",
    "            ohe[i][j] = 1"
   ]
  },
  {
   "cell_type": "markdown",
   "id": "93db9016-a4b3-4be1-bf0e-5a8ce3678ba9",
   "metadata": {},
   "source": [
    "Now that we have encoded our data, the next step is to finally train the model!\n",
    "Next, we will find the cosing similarities between the datapoints"
   ]
  },
  {
   "cell_type": "code",
   "execution_count": null,
   "id": "d4ffdd7e-4176-4eb8-a45c-d8cf8113ab86",
   "metadata": {},
   "outputs": [],
   "source": [
    "from sklearn.neighbors import NearestNeighbors\n",
    "model = NearestNeighbors(n_neighbors = 7, algorithm='ball_tree')\n",
    "model.fit(ohe)"
   ]
  },
  {
   "cell_type": "code",
   "execution_count": null,
   "id": "9efdd0d7-3cf1-4285-acdd-2fca20b266cd",
   "metadata": {},
   "outputs": [],
   "source": [
    "from sklearn.metrics.pairwise import cosine_similarity\n",
    "\n",
    "#utility functions\n",
    "def name_to_index(product_name):\n",
    "    return data[data['name'] == product_name].index.tolist()[0]\n",
    "\n",
    "def index_to_name(product_index):\n",
    "    return data.iloc[product_index]\n",
    "\n",
    "def wrap(product):\n",
    "    result = {}\n",
    "    result['brand'] = product[0];\n",
    "    result['name'] = product[1]\n",
    "    result['price'] = product[2]\n",
    "    result['url'] = product[3]\n",
    "    result['skin type'] = product[4]\n",
    "    result['concern'] = str(product[5]).split(',')\n",
    "    return result\n",
    "\n",
    "#find cosine similarity and return the closest 5 products, unless count of proucts mentioned otherwise\n",
    "def recommended_cosine(vector = None, name = None, label = None, count = 5):\n",
    "    suggested_products = []\n",
    "    if(name):\n",
    "        idx = name_to_index(name)\n",
    "        fv = ohe[idx]\n",
    "    elif (vector):\n",
    "        fv = vector\n",
    "    \n",
    "    cosine_values = cosine_similarity(np.array([fv,]), ohe)\n",
    "    data['cosine'] = cosine_values[0]\n",
    "\n",
    "    if(label):\n",
    "        df = data[data['label'] == label]\n",
    "    else:\n",
    "        df = data\n",
    "\n",
    "    recommendations = df.sort_values('cosine', ascending=False).head(count)\n",
    "    recommendations = recommendations[['brand', 'name', 'price', 'url', 'skin type', 'concern']].to_dict('split')['data']\n",
    "\n",
    "    for ele in recommendations:\n",
    "        suggested_products.append(wrap(ele))\n",
    "    return suggested_products"
   ]
  },
  {
   "cell_type": "code",
   "execution_count": null,
   "id": "eb5c01e6-72ea-4e28-8876-69fc5df4910d",
   "metadata": {},
   "outputs": [],
   "source": [
    "def recommend_essentials(vector=None, name = None):\n",
    "    response = {}\n",
    "    for label in LABELS:\n",
    "        if(name):\n",
    "            r = recommended_cosine(None, name, label)\n",
    "        elif(vector):\n",
    "            r = recommended_cosine(vector, None, label)\n",
    "        response[label] = r\n",
    "    return response\n",
    "            "
   ]
  },
  {
   "cell_type": "code",
   "execution_count": null,
   "id": "4dca86ff-7046-461e-9ccb-063c4c1fd145",
   "metadata": {},
   "outputs": [],
   "source": [
    "x_sample1 = ohe[3].tolist()\n",
    "y = recommend_essentials(x_sample1, None)"
   ]
  },
  {
   "cell_type": "code",
   "execution_count": null,
   "id": "8f646a75-8b6e-4eeb-95f7-2702de230c08",
   "metadata": {},
   "outputs": [],
   "source": [
    "y"
   ]
  },
  {
   "cell_type": "code",
   "execution_count": null,
   "id": "19c69953-111d-4ff7-9bed-c0035398539d",
   "metadata": {},
   "outputs": [],
   "source": [
    "import pickle\n",
    "pickle.dump(model, open(\"C:\\Users\\singh\\Desktop\\JavaScript Projects\\Skincare webapp\\ML\\Model.pkl\", 'wb')"
   ]
  }
 ],
 "metadata": {
  "kernelspec": {
   "display_name": "Python 3 (ipykernel)",
   "language": "python",
   "name": "python3"
  },
  "language_info": {
   "codemirror_mode": {
    "name": "ipython",
    "version": 3
   },
   "file_extension": ".py",
   "mimetype": "text/x-python",
   "name": "python",
   "nbconvert_exporter": "python",
   "pygments_lexer": "ipython3",
   "version": "3.12.3"
  }
 },
 "nbformat": 4,
 "nbformat_minor": 5
}
